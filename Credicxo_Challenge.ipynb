{
 "cells": [
  {
   "cell_type": "code",
   "execution_count": 1,
   "metadata": {
    "colab": {
     "base_uri": "https://localhost:8080/",
     "height": 63
    },
    "colab_type": "code",
    "id": "hXqZz9o_tozm",
    "outputId": "7fdd9117-9fd7-4774-bdb8-9e55b14e5b7f"
   },
   "outputs": [],
   "source": [
    "# Importing required libraries\n",
    "import os\n",
    "import numpy as np\n",
    "import pandas as pd\n",
    "import matplotlib.pyplot as plt\n",
    "import tensorflow as tf\n",
    "from sklearn.preprocessing import RobustScaler\n",
    "from sklearn.metrics import accuracy_score, precision_score, recall_score, f1_score"
   ]
  },
  {
   "cell_type": "code",
   "execution_count": 2,
   "metadata": {
    "colab": {
     "base_uri": "https://localhost:8080/",
     "height": 253
    },
    "colab_type": "code",
    "id": "r-SlZ3uGunJ_",
    "outputId": "d5c8832c-1146-4363-f830-410544ee150b"
   },
   "outputs": [
    {
     "data": {
      "text/html": [
       "<div>\n",
       "<style scoped>\n",
       "    .dataframe tbody tr th:only-of-type {\n",
       "        vertical-align: middle;\n",
       "    }\n",
       "\n",
       "    .dataframe tbody tr th {\n",
       "        vertical-align: top;\n",
       "    }\n",
       "\n",
       "    .dataframe thead th {\n",
       "        text-align: right;\n",
       "    }\n",
       "</style>\n",
       "<table border=\"1\" class=\"dataframe\">\n",
       "  <thead>\n",
       "    <tr style=\"text-align: right;\">\n",
       "      <th></th>\n",
       "      <th>ID</th>\n",
       "      <th>molecule_name</th>\n",
       "      <th>conformation_name</th>\n",
       "      <th>f1</th>\n",
       "      <th>f2</th>\n",
       "      <th>f3</th>\n",
       "      <th>f4</th>\n",
       "      <th>f5</th>\n",
       "      <th>f6</th>\n",
       "      <th>f7</th>\n",
       "      <th>...</th>\n",
       "      <th>f158</th>\n",
       "      <th>f159</th>\n",
       "      <th>f160</th>\n",
       "      <th>f161</th>\n",
       "      <th>f162</th>\n",
       "      <th>f163</th>\n",
       "      <th>f164</th>\n",
       "      <th>f165</th>\n",
       "      <th>f166</th>\n",
       "      <th>class</th>\n",
       "    </tr>\n",
       "  </thead>\n",
       "  <tbody>\n",
       "    <tr>\n",
       "      <td>0</td>\n",
       "      <td>1</td>\n",
       "      <td>MUSK-211</td>\n",
       "      <td>211_1+1</td>\n",
       "      <td>46</td>\n",
       "      <td>-108</td>\n",
       "      <td>-60</td>\n",
       "      <td>-69</td>\n",
       "      <td>-117</td>\n",
       "      <td>49</td>\n",
       "      <td>38</td>\n",
       "      <td>...</td>\n",
       "      <td>-308</td>\n",
       "      <td>52</td>\n",
       "      <td>-7</td>\n",
       "      <td>39</td>\n",
       "      <td>126</td>\n",
       "      <td>156</td>\n",
       "      <td>-50</td>\n",
       "      <td>-112</td>\n",
       "      <td>96</td>\n",
       "      <td>1</td>\n",
       "    </tr>\n",
       "    <tr>\n",
       "      <td>1</td>\n",
       "      <td>2</td>\n",
       "      <td>MUSK-211</td>\n",
       "      <td>211_1+10</td>\n",
       "      <td>41</td>\n",
       "      <td>-188</td>\n",
       "      <td>-145</td>\n",
       "      <td>22</td>\n",
       "      <td>-117</td>\n",
       "      <td>-6</td>\n",
       "      <td>57</td>\n",
       "      <td>...</td>\n",
       "      <td>-59</td>\n",
       "      <td>-2</td>\n",
       "      <td>52</td>\n",
       "      <td>103</td>\n",
       "      <td>136</td>\n",
       "      <td>169</td>\n",
       "      <td>-61</td>\n",
       "      <td>-136</td>\n",
       "      <td>79</td>\n",
       "      <td>1</td>\n",
       "    </tr>\n",
       "    <tr>\n",
       "      <td>2</td>\n",
       "      <td>3</td>\n",
       "      <td>MUSK-211</td>\n",
       "      <td>211_1+11</td>\n",
       "      <td>46</td>\n",
       "      <td>-194</td>\n",
       "      <td>-145</td>\n",
       "      <td>28</td>\n",
       "      <td>-117</td>\n",
       "      <td>73</td>\n",
       "      <td>57</td>\n",
       "      <td>...</td>\n",
       "      <td>-134</td>\n",
       "      <td>-154</td>\n",
       "      <td>57</td>\n",
       "      <td>143</td>\n",
       "      <td>142</td>\n",
       "      <td>165</td>\n",
       "      <td>-67</td>\n",
       "      <td>-145</td>\n",
       "      <td>39</td>\n",
       "      <td>1</td>\n",
       "    </tr>\n",
       "    <tr>\n",
       "      <td>3</td>\n",
       "      <td>4</td>\n",
       "      <td>MUSK-211</td>\n",
       "      <td>211_1+12</td>\n",
       "      <td>41</td>\n",
       "      <td>-188</td>\n",
       "      <td>-145</td>\n",
       "      <td>22</td>\n",
       "      <td>-117</td>\n",
       "      <td>-7</td>\n",
       "      <td>57</td>\n",
       "      <td>...</td>\n",
       "      <td>-60</td>\n",
       "      <td>-4</td>\n",
       "      <td>52</td>\n",
       "      <td>104</td>\n",
       "      <td>136</td>\n",
       "      <td>168</td>\n",
       "      <td>-60</td>\n",
       "      <td>-135</td>\n",
       "      <td>80</td>\n",
       "      <td>1</td>\n",
       "    </tr>\n",
       "    <tr>\n",
       "      <td>4</td>\n",
       "      <td>5</td>\n",
       "      <td>MUSK-211</td>\n",
       "      <td>211_1+13</td>\n",
       "      <td>41</td>\n",
       "      <td>-188</td>\n",
       "      <td>-145</td>\n",
       "      <td>22</td>\n",
       "      <td>-117</td>\n",
       "      <td>-7</td>\n",
       "      <td>57</td>\n",
       "      <td>...</td>\n",
       "      <td>-60</td>\n",
       "      <td>-4</td>\n",
       "      <td>52</td>\n",
       "      <td>104</td>\n",
       "      <td>137</td>\n",
       "      <td>168</td>\n",
       "      <td>-60</td>\n",
       "      <td>-135</td>\n",
       "      <td>80</td>\n",
       "      <td>1</td>\n",
       "    </tr>\n",
       "  </tbody>\n",
       "</table>\n",
       "<p>5 rows × 170 columns</p>\n",
       "</div>"
      ],
      "text/plain": [
       "   ID molecule_name conformation_name  f1   f2   f3  f4   f5  f6  f7  ...  \\\n",
       "0   1      MUSK-211           211_1+1  46 -108  -60 -69 -117  49  38  ...   \n",
       "1   2      MUSK-211          211_1+10  41 -188 -145  22 -117  -6  57  ...   \n",
       "2   3      MUSK-211          211_1+11  46 -194 -145  28 -117  73  57  ...   \n",
       "3   4      MUSK-211          211_1+12  41 -188 -145  22 -117  -7  57  ...   \n",
       "4   5      MUSK-211          211_1+13  41 -188 -145  22 -117  -7  57  ...   \n",
       "\n",
       "   f158  f159  f160  f161  f162  f163  f164  f165  f166  class  \n",
       "0  -308    52    -7    39   126   156   -50  -112    96      1  \n",
       "1   -59    -2    52   103   136   169   -61  -136    79      1  \n",
       "2  -134  -154    57   143   142   165   -67  -145    39      1  \n",
       "3   -60    -4    52   104   136   168   -60  -135    80      1  \n",
       "4   -60    -4    52   104   137   168   -60  -135    80      1  \n",
       "\n",
       "[5 rows x 170 columns]"
      ]
     },
     "execution_count": 2,
     "metadata": {},
     "output_type": "execute_result"
    }
   ],
   "source": [
    "# Loading the dataset\n",
    "dataset = pd.read_csv('./musk_csv.csv')\n",
    "dataset.head()"
   ]
  },
  {
   "cell_type": "code",
   "execution_count": 3,
   "metadata": {
    "colab": {
     "base_uri": "https://localhost:8080/",
     "height": 102
    },
    "colab_type": "code",
    "id": "pLMJYL9gvQOC",
    "outputId": "75f75488-0fb6-4f3a-86cd-cc387cbd4cab"
   },
   "outputs": [
    {
     "name": "stdout",
     "output_type": "stream",
     "text": [
      "<class 'pandas.core.frame.DataFrame'>\n",
      "RangeIndex: 6598 entries, 0 to 6597\n",
      "Columns: 170 entries, ID to class\n",
      "dtypes: int64(168), object(2)\n",
      "memory usage: 8.6+ MB\n"
     ]
    }
   ],
   "source": [
    "# Exploring the dataset\n",
    "dataset.info()\n",
    "# Target column -> class\n",
    "# Unrequired columns -> ID, molecule_name and conformation_name"
   ]
  },
  {
   "cell_type": "code",
   "execution_count": 4,
   "metadata": {
    "colab": {
     "base_uri": "https://localhost:8080/",
     "height": 295
    },
    "colab_type": "code",
    "id": "GLG7__WJwPX2",
    "outputId": "7c922ea7-ee41-4a02-a663-b857fbc0334b"
   },
   "outputs": [
    {
     "data": {
      "image/png": "[encoded data removed]",
      "text/plain": [
       "<Figure size 432x288 with 1 Axes>"
      ]
     },
     "metadata": {
      "needs_background": "light"
     },
     "output_type": "display_data"
    }
   ],
   "source": [
    "# Checking if the labels are imbalanced or not\n",
    "dataset['class'].value_counts().plot(kind = 'bar', color=['b', 'orange'], rot = 0) # Plotting the bar graph\n",
    "plt.title('Value count of each class in the dataset')  # Graph title\n",
    "plt.xlabel('Values')  #  x-axis label\n",
    "plt.ylabel('Counts')  # y-axis label\n",
    "plt.show()\n",
    "# Imbalanced labels: majority of the rows are labeled 0"
   ]
  },
  {
   "cell_type": "code",
   "execution_count": 5,
   "metadata": {
    "colab": {},
    "colab_type": "code",
    "id": "FVE5CDDfwCYB"
   },
   "outputs": [],
   "source": [
    "# Creating the dependent and independent variables, X and y\n",
    "X = dataset.loc[:, 'f1':'f166']\n",
    "y = dataset['class']"
   ]
  },
  {
   "cell_type": "code",
   "execution_count": 6,
   "metadata": {
    "colab": {},
    "colab_type": "code",
    "id": "v4PW4dWVz_Uo"
   },
   "outputs": [],
   "source": [
    "# Scaling the values\n",
    "# Since the some columns have outliers, using robust scaler\n",
    "X = RobustScaler().fit_transform(X)\n",
    "cols = dataset.columns[3:][:-1]\n",
    "X = pd.DataFrame(X, columns = cols)"
   ]
  },
  {
   "cell_type": "code",
   "execution_count": 7,
   "metadata": {
    "colab": {},
    "colab_type": "code",
    "id": "0Z2y65R-xhcs"
   },
   "outputs": [],
   "source": [
    "# Splitting data into train and test\n",
    "from sklearn.model_selection import train_test_split\n",
    "\n",
    "X_train, X_test, y_train, y_test = train_test_split(X, y, test_size= 0.2)"
   ]
  },
  {
   "cell_type": "code",
   "execution_count": 8,
   "metadata": {
    "colab": {
     "base_uri": "https://localhost:8080/",
     "height": 139
    },
    "colab_type": "code",
    "id": "esCwAO1UyTAy",
    "outputId": "8075fb39-4ed0-4bfa-eb71-f4d1dba1c03e"
   },
   "outputs": [
    {
     "name": "stdout",
     "output_type": "stream",
     "text": [
      "WARNING:tensorflow:From C:\\Users\\KURUP\\Anaconda3\\envs\\deepl\\lib\\site-packages\\tensorflow\\python\\ops\\init_ops.py:1251: calling VarianceScaling.__init__ (from tensorflow.python.ops.init_ops) with dtype is deprecated and will be removed in a future version.\n",
      "Instructions for updating:\n",
      "Call initializer instance with the dtype argument instead of passing it to the constructor\n",
      "WARNING:tensorflow:From C:\\Users\\KURUP\\Anaconda3\\envs\\deepl\\lib\\site-packages\\tensorflow\\python\\ops\\nn_impl.py:180: add_dispatch_support.<locals>.wrapper (from tensorflow.python.ops.array_ops) is deprecated and will be removed in a future version.\n",
      "Instructions for updating:\n",
      "Use tf.where in 2.0, which has the same broadcast rule as np.where\n"
     ]
    }
   ],
   "source": [
    "# ANN model\n",
    "model = tf.keras.Sequential()\n",
    "\n",
    "model.add(tf.keras.layers.Dense(32, input_dim = 166, activation='relu'))\n",
    "model.add(tf.keras.layers.Dense(64, activation='relu'))\n",
    "model.add(tf.keras.layers.Dropout(0.25))\n",
    "model.add(tf.keras.layers.Dense(128, activation='relu'))\n",
    "model.add(tf.keras.layers.Dropout(0.25))\n",
    "model.add(tf.keras.layers.Dense(256, activation='relu'))\n",
    "model.add(tf.keras.layers.Dropout(0.25))\n",
    "model.add(tf.keras.layers.Dense(512, activation='relu'))\n",
    "model.add(tf.keras.layers.Dropout(0.45))\n",
    "model.add(tf.keras.layers.Dense(512, activation='relu'))\n",
    "model.add(tf.keras.layers.Dropout(0.25))\n",
    "model.add(tf.keras.layers.Dense(256, activation='relu'))\n",
    "model.add(tf.keras.layers.Dropout(0.25))\n",
    "model.add(tf.keras.layers.Dense(128, activation='relu'))\n",
    "model.add(tf.keras.layers.Dropout(0.25))\n",
    "model.add(tf.keras.layers.Dense(64, activation='relu'))\n",
    "model.add(tf.keras.layers.Dropout(0.25))\n",
    "model.add(tf.keras.layers.Dense(32, activation='relu'))\n",
    "model.add(tf.keras.layers.Dense(1, activation='sigmoid'))\n",
    "\n",
    "model.compile(loss = 'binary_crossentropy', optimizer='adam', metrics=['accuracy'])"
   ]
  },
  {
   "cell_type": "code",
   "execution_count": 9,
   "metadata": {
    "colab": {
     "base_uri": "https://localhost:8080/",
     "height": 1000
    },
    "colab_type": "code",
    "id": "swjl9M1K9l01",
    "outputId": "8dd2d3ff-e8c6-4f23-8fea-13a4001e2e32"
   },
   "outputs": [
    {
     "name": "stdout",
     "output_type": "stream",
     "text": [
      "Train on 4222 samples, validate on 1056 samples\n",
      "Epoch 1/50\n",
      "4222/4222 [==============================] - 3s 796us/sample - loss: 0.3849 - acc: 0.8460 - val_loss: 0.2708 - val_acc: 0.9205\n",
      "Epoch 2/50\n",
      "4222/4222 [==============================] - 2s 440us/sample - loss: 0.2687 - acc: 0.9090 - val_loss: 0.1896 - val_acc: 0.9441\n",
      "Epoch 3/50\n",
      "4222/4222 [==============================] - 2s 445us/sample - loss: 0.2083 - acc: 0.9351 - val_loss: 0.1455 - val_acc: 0.9527\n",
      "Epoch 4/50\n",
      "4222/4222 [==============================] - 2s 421us/sample - loss: 0.1461 - acc: 0.9505 - val_loss: 0.1969 - val_acc: 0.9517\n",
      "Epoch 5/50\n",
      "4222/4222 [==============================] - 2s 440us/sample - loss: 0.1221 - acc: 0.9588 - val_loss: 0.1056 - val_acc: 0.9669\n",
      "Epoch 6/50\n",
      "4222/4222 [==============================] - 2s 439us/sample - loss: 0.1003 - acc: 0.9642 - val_loss: 0.0713 - val_acc: 0.9706\n",
      "Epoch 7/50\n",
      "4222/4222 [==============================] - 2s 420us/sample - loss: 0.0921 - acc: 0.9716 - val_loss: 0.0905 - val_acc: 0.9706\n",
      "Epoch 8/50\n",
      "4222/4222 [==============================] - 2s 421us/sample - loss: 0.0779 - acc: 0.9732 - val_loss: 0.0805 - val_acc: 0.9735\n",
      "Epoch 9/50\n",
      "4222/4222 [==============================] - 2s 425us/sample - loss: 0.0740 - acc: 0.9763 - val_loss: 0.0745 - val_acc: 0.9763\n",
      "Epoch 10/50\n",
      "4222/4222 [==============================] - 2s 421us/sample - loss: 0.0737 - acc: 0.9780 - val_loss: 0.1069 - val_acc: 0.9697\n",
      "Epoch 11/50\n",
      "4222/4222 [==============================] - 2s 448us/sample - loss: 0.0752 - acc: 0.9770 - val_loss: 0.0710 - val_acc: 0.9744\n",
      "Epoch 12/50\n",
      "4222/4222 [==============================] - 2s 442us/sample - loss: 0.0569 - acc: 0.9813 - val_loss: 0.0673 - val_acc: 0.9716\n",
      "Epoch 13/50\n",
      "4222/4222 [==============================] - 2s 417us/sample - loss: 0.0767 - acc: 0.9822 - val_loss: 0.0738 - val_acc: 0.9725\n",
      "Epoch 14/50\n",
      "4222/4222 [==============================] - 2s 412us/sample - loss: 0.0561 - acc: 0.9825 - val_loss: 0.0550 - val_acc: 0.9782\n",
      "Epoch 15/50\n",
      "4222/4222 [==============================] - 2s 449us/sample - loss: 0.0634 - acc: 0.9820 - val_loss: 0.0543 - val_acc: 0.9848\n",
      "Epoch 16/50\n",
      "4222/4222 [==============================] - 2s 444us/sample - loss: 0.0461 - acc: 0.9858 - val_loss: 0.0534 - val_acc: 0.9830\n",
      "Epoch 17/50\n",
      "4222/4222 [==============================] - 2s 450us/sample - loss: 0.0510 - acc: 0.9839 - val_loss: 0.0518 - val_acc: 0.9848\n",
      "Epoch 18/50\n",
      "4222/4222 [==============================] - 2s 424us/sample - loss: 0.0437 - acc: 0.9853 - val_loss: 0.0642 - val_acc: 0.9735\n",
      "Epoch 19/50\n",
      "4222/4222 [==============================] - 2s 422us/sample - loss: 0.0461 - acc: 0.9856 - val_loss: 0.0548 - val_acc: 0.9792\n",
      "Epoch 20/50\n",
      "4222/4222 [==============================] - 2s 426us/sample - loss: 0.0427 - acc: 0.9867 - val_loss: 0.0653 - val_acc: 0.9830\n",
      "Epoch 21/50\n",
      "4222/4222 [==============================] - 2s 420us/sample - loss: 0.0497 - acc: 0.9865 - val_loss: 0.0539 - val_acc: 0.9877\n",
      "Epoch 22/50\n",
      "4222/4222 [==============================] - 2s 423us/sample - loss: 0.0372 - acc: 0.9877 - val_loss: 0.0883 - val_acc: 0.9782\n",
      "Epoch 23/50\n",
      "4222/4222 [==============================] - 2s 425us/sample - loss: 0.0350 - acc: 0.9877 - val_loss: 0.1355 - val_acc: 0.9763\n",
      "Epoch 24/50\n",
      "4222/4222 [==============================] - 2s 418us/sample - loss: 0.0429 - acc: 0.9886 - val_loss: 0.0940 - val_acc: 0.9801\n",
      "Epoch 25/50\n",
      "4222/4222 [==============================] - 2s 431us/sample - loss: 0.0532 - acc: 0.9886 - val_loss: 0.0882 - val_acc: 0.9811\n",
      "Epoch 26/50\n",
      "4222/4222 [==============================] - 2s 417us/sample - loss: 0.0354 - acc: 0.9882 - val_loss: 0.0811 - val_acc: 0.9820\n",
      "Epoch 27/50\n",
      "4222/4222 [==============================] - 2s 427us/sample - loss: 0.0307 - acc: 0.9915 - val_loss: 0.0956 - val_acc: 0.9754\n",
      "Epoch 28/50\n",
      "4222/4222 [==============================] - 2s 414us/sample - loss: 0.0349 - acc: 0.9901 - val_loss: 0.0613 - val_acc: 0.9830\n",
      "Epoch 29/50\n",
      "4222/4222 [==============================] - 2s 417us/sample - loss: 0.0288 - acc: 0.9922 - val_loss: 0.0667 - val_acc: 0.9858\n",
      "Epoch 30/50\n",
      "4222/4222 [==============================] - 2s 440us/sample - loss: 0.0258 - acc: 0.9915 - val_loss: 0.0610 - val_acc: 0.9867\n",
      "Epoch 31/50\n",
      "4222/4222 [==============================] - 2s 435us/sample - loss: 0.0330 - acc: 0.9919 - val_loss: 0.1158 - val_acc: 0.9839\n",
      "Epoch 32/50\n",
      "4222/4222 [==============================] - 2s 427us/sample - loss: 0.0468 - acc: 0.9889 - val_loss: 0.0852 - val_acc: 0.9801\n",
      "Epoch 33/50\n",
      "4222/4222 [==============================] - 2s 458us/sample - loss: 0.0429 - acc: 0.9882 - val_loss: 0.0825 - val_acc: 0.9801\n",
      "Epoch 34/50\n",
      "4222/4222 [==============================] - 2s 475us/sample - loss: 0.0480 - acc: 0.9886 - val_loss: 0.0463 - val_acc: 0.9830\n",
      "Epoch 35/50\n",
      "4222/4222 [==============================] - 2s 438us/sample - loss: 0.0363 - acc: 0.9898 - val_loss: 0.0543 - val_acc: 0.9839\n",
      "Epoch 36/50\n",
      "4222/4222 [==============================] - 2s 435us/sample - loss: 0.0299 - acc: 0.9910 - val_loss: 0.0524 - val_acc: 0.9848\n",
      "Epoch 37/50\n",
      "4222/4222 [==============================] - 2s 447us/sample - loss: 0.0274 - acc: 0.9919 - val_loss: 0.0685 - val_acc: 0.9830\n",
      "Epoch 38/50\n",
      "4222/4222 [==============================] - 2s 440us/sample - loss: 0.0295 - acc: 0.9912 - val_loss: 0.0466 - val_acc: 0.9848\n",
      "Epoch 39/50\n",
      "4222/4222 [==============================] - 2s 477us/sample - loss: 0.0291 - acc: 0.9919 - val_loss: 0.0454 - val_acc: 0.9811\n",
      "Epoch 40/50\n",
      "4222/4222 [==============================] - 2s 428us/sample - loss: 0.0191 - acc: 0.9946 - val_loss: 0.1870 - val_acc: 0.9858\n",
      "Epoch 41/50\n",
      "4222/4222 [==============================] - 2s 420us/sample - loss: 0.0254 - acc: 0.9927 - val_loss: 0.1328 - val_acc: 0.9773\n",
      "Epoch 42/50\n",
      "4222/4222 [==============================] - 2s 431us/sample - loss: 0.0252 - acc: 0.9927 - val_loss: 0.1095 - val_acc: 0.9839\n",
      "Epoch 43/50\n",
      "4222/4222 [==============================] - 2s 426us/sample - loss: 0.0253 - acc: 0.9908 - val_loss: 0.0940 - val_acc: 0.9886\n",
      "Epoch 44/50\n",
      "4222/4222 [==============================] - 2s 426us/sample - loss: 0.0425 - acc: 0.9936 - val_loss: 0.0993 - val_acc: 0.9896\n",
      "Epoch 45/50\n",
      "4222/4222 [==============================] - 2s 412us/sample - loss: 0.0461 - acc: 0.9910 - val_loss: 0.0546 - val_acc: 0.9820\n",
      "Epoch 46/50\n",
      "4222/4222 [==============================] - 2s 428us/sample - loss: 0.0296 - acc: 0.9936 - val_loss: 0.0967 - val_acc: 0.9867\n",
      "Epoch 47/50\n",
      "4222/4222 [==============================] - 2s 422us/sample - loss: 0.0289 - acc: 0.9915 - val_loss: 0.0721 - val_acc: 0.9877\n",
      "Epoch 48/50\n",
      "4222/4222 [==============================] - 2s 427us/sample - loss: 0.0234 - acc: 0.9936 - val_loss: 0.0532 - val_acc: 0.9848\n",
      "Epoch 49/50\n",
      "4222/4222 [==============================] - 2s 422us/sample - loss: 0.0909 - acc: 0.9915 - val_loss: 0.0593 - val_acc: 0.9886\n",
      "Epoch 50/50\n",
      "4222/4222 [==============================] - 2s 423us/sample - loss: 0.0287 - acc: 0.9936 - val_loss: 0.0574 - val_acc: 0.9867\n"
     ]
    }
   ],
   "source": [
    "checkpoint = tf.keras.callbacks.ModelCheckpoint('./model.h5', save_best_only=True)  # Saving best weights\n",
    "history = model.fit(X_train, y_train, epochs = 50, validation_split=0.2, callbacks = [checkpoint])  # Training for 50 epochs"
   ]
  },
  {
   "cell_type": "code",
   "execution_count": 13,
   "metadata": {
    "colab": {
     "base_uri": "https://localhost:8080/",
     "height": 545
    },
    "colab_type": "code",
    "id": "9zndtLaiCPA2",
    "outputId": "151ce3b3-cab0-4b58-d4ae-e1518bd9fe64"
   },
   "outputs": [
    {
     "data": {
      "image/png": "[encoded data removed]",
      "text/plain": [
       "<Figure size 432x288 with 1 Axes>"
      ]
     },
     "metadata": {
      "needs_background": "light"
     },
     "output_type": "display_data"
    },
    {
     "data": {
      "image/png": "[encoded data removed]",
      "text/plain": [
       "<Figure size 432x288 with 1 Axes>"
      ]
     },
     "metadata": {
      "needs_background": "light"
     },
     "output_type": "display_data"
    }
   ],
   "source": [
    "acc = history.history['acc']\n",
    "val_acc = history.history['val_acc']\n",
    "loss = history.history['loss']\n",
    "val_loss = history.history['val_loss']\n",
    "epochs = range(1, len(acc) + 1)\n",
    "\n",
    "#Train and validation accuracy\n",
    "plt.plot(epochs, acc, 'b', label='Training accurarcy')\n",
    "plt.plot(epochs, val_acc, 'orange', label='Validation accurarcy')\n",
    "plt.title('accurarcy')\n",
    "plt.legend()\n",
    "plt.savefig('accuracy.png')\n",
    "\n",
    "plt.figure()\n",
    "#Train and validation loss\n",
    "plt.plot(epochs, loss, 'b', label='Training loss')\n",
    "plt.plot(epochs, val_loss, 'orange', label='Validation accurarcy')\n",
    "plt.title('loss')\n",
    "plt.legend()\n",
    "plt.savefig('loss.png')\n",
    "plt.show()"
   ]
  },
  {
   "cell_type": "code",
   "execution_count": 14,
   "metadata": {},
   "outputs": [],
   "source": [
    "model = tf.keras.models.load_model('./model.h5')"
   ]
  },
  {
   "cell_type": "code",
   "execution_count": 12,
   "metadata": {
    "colab": {
     "base_uri": "https://localhost:8080/",
     "height": 85
    },
    "colab_type": "code",
    "id": "cPv7nkZEDHIG",
    "outputId": "b0b69519-c24a-4715-db43-6bc63533578c"
   },
   "outputs": [
    {
     "name": "stdout",
     "output_type": "stream",
     "text": [
      "Accuracy: 0.9893939393939394\n",
      "Precision: 0.9751243781094527\n",
      "Recall: 0.9560975609756097\n",
      "f1 score: 0.9655172413793103\n"
     ]
    }
   ],
   "source": [
    "y_pred = model.predict(X_test)\n",
    "y_pred = [0 if i <= 0.5 else 1 for i in y_pred]\n",
    "\n",
    "print(f'Accuracy: {accuracy_score(y_test, y_pred)}')\n",
    "print(f'Precision: {precision_score(y_test, y_pred)}')\n",
    "print(f'Recall: {recall_score(y_test, y_pred)}')\n",
    "print(f'f1 score: {f1_score(y_test, y_pred)}')"
   ]
  },
  {
   "cell_type": "code",
   "execution_count": null,
   "metadata": {},
   "outputs": [],
   "source": []
  }
 ],
 "metadata": {
  "accelerator": "GPU",
  "colab": {
   "name": "Credicxo Challenge.ipynb",
   "provenance": []
  },
  "kernelspec": {
   "display_name": "Python 3",
   "language": "python",
   "name": "python3"
  },
  "language_info": {
   "codemirror_mode": {
    "name": "ipython",
    "version": 3
   },
   "file_extension": ".py",
   "mimetype": "text/x-python",
   "name": "python",
   "nbconvert_exporter": "python",
   "pygments_lexer": "ipython3",
   "version": "3.6.8"
  }
 },
 "nbformat": 4,
 "nbformat_minor": 1
}
